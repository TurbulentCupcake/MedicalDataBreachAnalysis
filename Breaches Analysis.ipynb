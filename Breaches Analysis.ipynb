{
 "cells": [
  {
   "cell_type": "code",
   "execution_count": 3,
   "metadata": {
    "collapsed": true
   },
   "outputs": [],
   "source": [
    "import pandas as pd\n",
    "import numpy as np\n",
    "from pandas import Series, DataFrame\n",
    "import matplotlib.pyplot as plt\n",
    "import seaborn as sns\n",
    "%matplotlib inline\n"
   ]
  },
  {
   "cell_type": "code",
   "execution_count": 4,
   "metadata": {
    "collapsed": true
   },
   "outputs": [],
   "source": [
    "breach_df = pd.ExcelFile('breach_report.xls')"
   ]
  },
  {
   "cell_type": "code",
   "execution_count": 5,
   "metadata": {
    "collapsed": false
   },
   "outputs": [],
   "source": [
    "breach_df = breach_df.parse('Sheet0')\n"
   ]
  },
  {
   "cell_type": "code",
   "execution_count": 6,
   "metadata": {
    "collapsed": false,
    "scrolled": true
   },
   "outputs": [
    {
     "data": {
      "text/html": [
       "<div>\n",
       "<table border=\"1\" class=\"dataframe\">\n",
       "  <thead>\n",
       "    <tr style=\"text-align: right;\">\n",
       "      <th></th>\n",
       "      <th>Name of Covered Entity</th>\n",
       "      <th>State</th>\n",
       "      <th>Covered Entity Type</th>\n",
       "      <th>Individuals Affected</th>\n",
       "      <th>Breach Submission Date</th>\n",
       "      <th>Type of Breach</th>\n",
       "      <th>Location of Breached Information</th>\n",
       "      <th>Business Associate Present</th>\n",
       "      <th>Web Description</th>\n",
       "    </tr>\n",
       "  </thead>\n",
       "  <tbody>\n",
       "    <tr>\n",
       "      <th>0</th>\n",
       "      <td>Brooke Army Medical Center</td>\n",
       "      <td>TX</td>\n",
       "      <td>Healthcare Provider</td>\n",
       "      <td>1000.0</td>\n",
       "      <td>10/21/2009</td>\n",
       "      <td>Theft</td>\n",
       "      <td>Paper/Films</td>\n",
       "      <td>No</td>\n",
       "      <td>A binder containing the protected health infor...</td>\n",
       "    </tr>\n",
       "    <tr>\n",
       "      <th>1</th>\n",
       "      <td>Mid America Kidney Stone Association, LLC</td>\n",
       "      <td>MO</td>\n",
       "      <td>Healthcare Provider</td>\n",
       "      <td>1000.0</td>\n",
       "      <td>10/28/2009</td>\n",
       "      <td>Theft</td>\n",
       "      <td>Network Server</td>\n",
       "      <td>No</td>\n",
       "      <td>Five desktop computers containing unencrypted ...</td>\n",
       "    </tr>\n",
       "    <tr>\n",
       "      <th>2</th>\n",
       "      <td>Alaska Department of Health and Social Services</td>\n",
       "      <td>AK</td>\n",
       "      <td>Healthcare Provider</td>\n",
       "      <td>501.0</td>\n",
       "      <td>10/30/2009</td>\n",
       "      <td>Theft</td>\n",
       "      <td>Other, Other Portable Electronic Device</td>\n",
       "      <td>No</td>\n",
       "      <td>\\N</td>\n",
       "    </tr>\n",
       "    <tr>\n",
       "      <th>3</th>\n",
       "      <td>Health Services for Children with Special Need...</td>\n",
       "      <td>DC</td>\n",
       "      <td>Health Plan</td>\n",
       "      <td>3800.0</td>\n",
       "      <td>11/17/2009</td>\n",
       "      <td>Loss</td>\n",
       "      <td>Laptop</td>\n",
       "      <td>No</td>\n",
       "      <td>A laptop was lost by an employee while in tran...</td>\n",
       "    </tr>\n",
       "    <tr>\n",
       "      <th>4</th>\n",
       "      <td>Mark D. Lurie, MD</td>\n",
       "      <td>CA</td>\n",
       "      <td>Healthcare Provider</td>\n",
       "      <td>5166.0</td>\n",
       "      <td>11/20/2009</td>\n",
       "      <td>Theft</td>\n",
       "      <td>Desktop Computer</td>\n",
       "      <td>No</td>\n",
       "      <td>A shared Computer that was used for backup was...</td>\n",
       "    </tr>\n",
       "  </tbody>\n",
       "</table>\n",
       "</div>"
      ],
      "text/plain": [
       "                              Name of Covered Entity State  \\\n",
       "0                         Brooke Army Medical Center    TX   \n",
       "1          Mid America Kidney Stone Association, LLC    MO   \n",
       "2    Alaska Department of Health and Social Services    AK   \n",
       "3  Health Services for Children with Special Need...    DC   \n",
       "4                                  Mark D. Lurie, MD    CA   \n",
       "\n",
       "   Covered Entity Type  Individuals Affected Breach Submission Date  \\\n",
       "0  Healthcare Provider                1000.0             10/21/2009   \n",
       "1  Healthcare Provider                1000.0             10/28/2009   \n",
       "2  Healthcare Provider                 501.0             10/30/2009   \n",
       "3          Health Plan                3800.0             11/17/2009   \n",
       "4  Healthcare Provider                5166.0             11/20/2009   \n",
       "\n",
       "  Type of Breach         Location of Breached Information  \\\n",
       "0          Theft                              Paper/Films   \n",
       "1          Theft                           Network Server   \n",
       "2          Theft  Other, Other Portable Electronic Device   \n",
       "3           Loss                                   Laptop   \n",
       "4          Theft                         Desktop Computer   \n",
       "\n",
       "  Business Associate Present  \\\n",
       "0                         No   \n",
       "1                         No   \n",
       "2                         No   \n",
       "3                         No   \n",
       "4                         No   \n",
       "\n",
       "                                     Web Description  \n",
       "0  A binder containing the protected health infor...  \n",
       "1  Five desktop computers containing unencrypted ...  \n",
       "2                                                 \\N  \n",
       "3  A laptop was lost by an employee while in tran...  \n",
       "4  A shared Computer that was used for backup was...  "
      ]
     },
     "execution_count": 6,
     "metadata": {},
     "output_type": "execute_result"
    }
   ],
   "source": [
    "breach_df.head()\n"
   ]
  },
  {
   "cell_type": "code",
   "execution_count": 7,
   "metadata": {
    "collapsed": true
   },
   "outputs": [],
   "source": [
    "# Q1. Which states are most affected by the medical breaches?\n",
    "# We can infer from the data that the total number of occurances of a certain state under \n",
    "# the State column indicates the number of breaches that have occured in that particular\n",
    "# state"
   ]
  },
  {
   "cell_type": "code",
   "execution_count": 270,
   "metadata": {
    "collapsed": false,
    "scrolled": false
   },
   "outputs": [
    {
     "data": {
      "image/png": "[encoded data removed]",
      "text/plain": [
       "<matplotlib.figure.Figure at 0x7fcbaac13f90>"
      ]
     },
     "metadata": {},
     "output_type": "display_data"
    }
   ],
   "source": [
    "g = sns.factorplot('State', data = breach_df, kind = 'count', palette = 'winter_d', aspect = 3)\n",
    "g.fig.get_axes()[0].set_yscale('log')"
   ]
  },
  {
   "cell_type": "code",
   "execution_count": 9,
   "metadata": {
    "collapsed": true
   },
   "outputs": [],
   "source": [
    "# As we can see, California, Texas, Illinois, Florida and New York\n",
    "# take the top 5 positions for most occurances of medical breaches"
   ]
  },
  {
   "cell_type": "code",
   "execution_count": 10,
   "metadata": {
    "collapsed": true
   },
   "outputs": [],
   "source": [
    "# Q2. How many individuals (by state) were affected by these breaches ?"
   ]
  },
  {
   "cell_type": "code",
   "execution_count": 11,
   "metadata": {
    "collapsed": false
   },
   "outputs": [
    {
     "data": {
      "text/html": [
       "<div>\n",
       "<table border=\"1\" class=\"dataframe\">\n",
       "  <thead>\n",
       "    <tr style=\"text-align: right;\">\n",
       "      <th></th>\n",
       "      <th>Individuals Affected</th>\n",
       "    </tr>\n",
       "    <tr>\n",
       "      <th>State</th>\n",
       "      <th></th>\n",
       "    </tr>\n",
       "  </thead>\n",
       "  <tbody>\n",
       "    <tr>\n",
       "      <th>AK</th>\n",
       "      <td>9053.0</td>\n",
       "    </tr>\n",
       "    <tr>\n",
       "      <th>AL</th>\n",
       "      <td>1081032.0</td>\n",
       "    </tr>\n",
       "    <tr>\n",
       "      <th>AR</th>\n",
       "      <td>32503.0</td>\n",
       "    </tr>\n",
       "    <tr>\n",
       "      <th>AZ</th>\n",
       "      <td>215657.0</td>\n",
       "    </tr>\n",
       "    <tr>\n",
       "      <th>CA</th>\n",
       "      <td>7273864.0</td>\n",
       "    </tr>\n",
       "    <tr>\n",
       "      <th>CO</th>\n",
       "      <td>187865.0</td>\n",
       "    </tr>\n",
       "    <tr>\n",
       "      <th>CT</th>\n",
       "      <td>215408.0</td>\n",
       "    </tr>\n",
       "    <tr>\n",
       "      <th>DC</th>\n",
       "      <td>33350.0</td>\n",
       "    </tr>\n",
       "    <tr>\n",
       "      <th>DE</th>\n",
       "      <td>1883.0</td>\n",
       "    </tr>\n",
       "    <tr>\n",
       "      <th>FL</th>\n",
       "      <td>5741447.0</td>\n",
       "    </tr>\n",
       "    <tr>\n",
       "      <th>GA</th>\n",
       "      <td>1485213.0</td>\n",
       "    </tr>\n",
       "    <tr>\n",
       "      <th>HI</th>\n",
       "      <td>13662.0</td>\n",
       "    </tr>\n",
       "    <tr>\n",
       "      <th>IA</th>\n",
       "      <td>39284.0</td>\n",
       "    </tr>\n",
       "    <tr>\n",
       "      <th>ID</th>\n",
       "      <td>14962.0</td>\n",
       "    </tr>\n",
       "    <tr>\n",
       "      <th>IL</th>\n",
       "      <td>4691290.0</td>\n",
       "    </tr>\n",
       "    <tr>\n",
       "      <th>IN</th>\n",
       "      <td>83846762.0</td>\n",
       "    </tr>\n",
       "    <tr>\n",
       "      <th>KS</th>\n",
       "      <td>88264.0</td>\n",
       "    </tr>\n",
       "    <tr>\n",
       "      <th>KY</th>\n",
       "      <td>200209.0</td>\n",
       "    </tr>\n",
       "    <tr>\n",
       "      <th>LA</th>\n",
       "      <td>101016.0</td>\n",
       "    </tr>\n",
       "    <tr>\n",
       "      <th>MA</th>\n",
       "      <td>205118.0</td>\n",
       "    </tr>\n",
       "    <tr>\n",
       "      <th>MD</th>\n",
       "      <td>1457570.0</td>\n",
       "    </tr>\n",
       "    <tr>\n",
       "      <th>ME</th>\n",
       "      <td>3274.0</td>\n",
       "    </tr>\n",
       "    <tr>\n",
       "      <th>MI</th>\n",
       "      <td>220046.0</td>\n",
       "    </tr>\n",
       "    <tr>\n",
       "      <th>MN</th>\n",
       "      <td>339201.0</td>\n",
       "    </tr>\n",
       "    <tr>\n",
       "      <th>MO</th>\n",
       "      <td>112436.0</td>\n",
       "    </tr>\n",
       "    <tr>\n",
       "      <th>MS</th>\n",
       "      <td>28486.0</td>\n",
       "    </tr>\n",
       "    <tr>\n",
       "      <th>MT</th>\n",
       "      <td>1147107.0</td>\n",
       "    </tr>\n",
       "    <tr>\n",
       "      <th>NC</th>\n",
       "      <td>304589.0</td>\n",
       "    </tr>\n",
       "    <tr>\n",
       "      <th>ND</th>\n",
       "      <td>12650.0</td>\n",
       "    </tr>\n",
       "    <tr>\n",
       "      <th>NE</th>\n",
       "      <td>50670.0</td>\n",
       "    </tr>\n",
       "    <tr>\n",
       "      <th>NH</th>\n",
       "      <td>239339.0</td>\n",
       "    </tr>\n",
       "    <tr>\n",
       "      <th>NJ</th>\n",
       "      <td>3054416.0</td>\n",
       "    </tr>\n",
       "    <tr>\n",
       "      <th>NM</th>\n",
       "      <td>40109.0</td>\n",
       "    </tr>\n",
       "    <tr>\n",
       "      <th>NV</th>\n",
       "      <td>83124.0</td>\n",
       "    </tr>\n",
       "    <tr>\n",
       "      <th>NY</th>\n",
       "      <td>13004903.0</td>\n",
       "    </tr>\n",
       "    <tr>\n",
       "      <th>OH</th>\n",
       "      <td>362341.0</td>\n",
       "    </tr>\n",
       "    <tr>\n",
       "      <th>OK</th>\n",
       "      <td>279119.0</td>\n",
       "    </tr>\n",
       "    <tr>\n",
       "      <th>OR</th>\n",
       "      <td>285516.0</td>\n",
       "    </tr>\n",
       "    <tr>\n",
       "      <th>PA</th>\n",
       "      <td>1323157.0</td>\n",
       "    </tr>\n",
       "    <tr>\n",
       "      <th>PR</th>\n",
       "      <td>863606.0</td>\n",
       "    </tr>\n",
       "    <tr>\n",
       "      <th>RI</th>\n",
       "      <td>44527.0</td>\n",
       "    </tr>\n",
       "    <tr>\n",
       "      <th>SC</th>\n",
       "      <td>361332.0</td>\n",
       "    </tr>\n",
       "    <tr>\n",
       "      <th>SD</th>\n",
       "      <td>23779.0</td>\n",
       "    </tr>\n",
       "    <tr>\n",
       "      <th>TN</th>\n",
       "      <td>6141964.0</td>\n",
       "    </tr>\n",
       "    <tr>\n",
       "      <th>TX</th>\n",
       "      <td>3702677.0</td>\n",
       "    </tr>\n",
       "    <tr>\n",
       "      <th>UT</th>\n",
       "      <td>876270.0</td>\n",
       "    </tr>\n",
       "    <tr>\n",
       "      <th>VA</th>\n",
       "      <td>5850533.0</td>\n",
       "    </tr>\n",
       "    <tr>\n",
       "      <th>VT</th>\n",
       "      <td>2550.0</td>\n",
       "    </tr>\n",
       "    <tr>\n",
       "      <th>WA</th>\n",
       "      <td>11269724.0</td>\n",
       "    </tr>\n",
       "    <tr>\n",
       "      <th>WI</th>\n",
       "      <td>115900.0</td>\n",
       "    </tr>\n",
       "    <tr>\n",
       "      <th>WV</th>\n",
       "      <td>21543.0</td>\n",
       "    </tr>\n",
       "    <tr>\n",
       "      <th>WY</th>\n",
       "      <td>52200.0</td>\n",
       "    </tr>\n",
       "  </tbody>\n",
       "</table>\n",
       "</div>"
      ],
      "text/plain": [
       "       Individuals Affected\n",
       "State                      \n",
       "AK                   9053.0\n",
       "AL                1081032.0\n",
       "AR                  32503.0\n",
       "AZ                 215657.0\n",
       "CA                7273864.0\n",
       "CO                 187865.0\n",
       "CT                 215408.0\n",
       "DC                  33350.0\n",
       "DE                   1883.0\n",
       "FL                5741447.0\n",
       "GA                1485213.0\n",
       "HI                  13662.0\n",
       "IA                  39284.0\n",
       "ID                  14962.0\n",
       "IL                4691290.0\n",
       "IN               83846762.0\n",
       "KS                  88264.0\n",
       "KY                 200209.0\n",
       "LA                 101016.0\n",
       "MA                 205118.0\n",
       "MD                1457570.0\n",
       "ME                   3274.0\n",
       "MI                 220046.0\n",
       "MN                 339201.0\n",
       "MO                 112436.0\n",
       "MS                  28486.0\n",
       "MT                1147107.0\n",
       "NC                 304589.0\n",
       "ND                  12650.0\n",
       "NE                  50670.0\n",
       "NH                 239339.0\n",
       "NJ                3054416.0\n",
       "NM                  40109.0\n",
       "NV                  83124.0\n",
       "NY               13004903.0\n",
       "OH                 362341.0\n",
       "OK                 279119.0\n",
       "OR                 285516.0\n",
       "PA                1323157.0\n",
       "PR                 863606.0\n",
       "RI                  44527.0\n",
       "SC                 361332.0\n",
       "SD                  23779.0\n",
       "TN                6141964.0\n",
       "TX                3702677.0\n",
       "UT                 876270.0\n",
       "VA                5850533.0\n",
       "VT                   2550.0\n",
       "WA               11269724.0\n",
       "WI                 115900.0\n",
       "WV                  21543.0\n",
       "WY                  52200.0"
      ]
     },
     "execution_count": 11,
     "metadata": {},
     "output_type": "execute_result"
    }
   ],
   "source": [
    "# Here we use the groupby function to group the dataframe in terms of state in order to get the \n",
    "# individuals affected for each state\n",
    "affected = breach_df.groupby('State').sum()\n",
    "affected"
   ]
  },
  {
   "cell_type": "code",
   "execution_count": 273,
   "metadata": {
    "collapsed": false
   },
   "outputs": [
    {
     "data": {
      "image/png": "[encoded data removed]",
      "text/plain": [
       "<matplotlib.figure.Figure at 0x7fcbab03ec50>"
      ]
     },
     "metadata": {},
     "output_type": "display_data"
    }
   ],
   "source": [
    "p = sns.factorplot(x = affected.index.values, y = 'Individuals Affected', kind = 'bar', palette = 'winter_d', data = affected,aspect = 4)\n",
    "p.set(xlabel = 'State')\n",
    "p.fig.get_axes()[0].set_yscale('log')"
   ]
  },
  {
   "cell_type": "code",
   "execution_count": 13,
   "metadata": {
    "collapsed": true
   },
   "outputs": [],
   "source": [
    "# As we can see, Indiana seems to have an unreasonably high number of individuals affected due to \n",
    "# medical breaches. How does this relate to the number of breaches that occur in the state? "
   ]
  },
  {
   "cell_type": "code",
   "execution_count": 14,
   "metadata": {
    "collapsed": false
   },
   "outputs": [
    {
     "data": {
      "text/plain": [
       "MA     41\n",
       "GA     47\n",
       "OH     48\n",
       "IN     51\n",
       "PA     52\n",
       "IL     86\n",
       "FL     97\n",
       "NY     99\n",
       "TX    127\n",
       "CA    170\n",
       "Name: State, dtype: int64"
      ]
     },
     "execution_count": 14,
     "metadata": {},
     "output_type": "execute_result"
    }
   ],
   "source": [
    "# Seemingly, although Indiana has the highest number of individuals affected, it ranks 7th in the \n",
    "# total number of breaches per state\n",
    "breach_df['State'].value_counts().sort_values().tail(10)"
   ]
  },
  {
   "cell_type": "code",
   "execution_count": 15,
   "metadata": {
    "collapsed": true
   },
   "outputs": [],
   "source": [
    "# Let us try to find a correlation here between the number of breaches in each state and the \n",
    "# individuals affected. After the above analysis, my intuition tells me that there is not much\n",
    "# correlation between the total number of breaches for each state and the number of individuals\n",
    "# affected. Lets test that out."
   ]
  },
  {
   "cell_type": "code",
   "execution_count": 16,
   "metadata": {
    "collapsed": true
   },
   "outputs": [],
   "source": [
    "#In order to do the above, we have to create a DataFrame that contains columns for the number of \n",
    "# individuals affected in each state and the number of breaches in each state."
   ]
  },
  {
   "cell_type": "code",
   "execution_count": 17,
   "metadata": {
    "collapsed": false
   },
   "outputs": [],
   "source": [
    "# Getting the number of breaches per state \n",
    "BreachByState = breach_df['State'].value_counts()\n",
    "BreachByState = BreachByState.rename('Breaches By State')"
   ]
  },
  {
   "cell_type": "code",
   "execution_count": 18,
   "metadata": {
    "collapsed": true
   },
   "outputs": [],
   "source": [
    "# Getting the individuals affected by each state\n",
    "AffectedByState =  breach_df.groupby('State')['Individuals Affected'].sum()"
   ]
  },
  {
   "cell_type": "code",
   "execution_count": 19,
   "metadata": {
    "collapsed": false
   },
   "outputs": [],
   "source": [
    "#Making the two series into a dataframe\n",
    "breach_df2 = pd.concat([BreachByState,AffectedByState], axis  = 1)"
   ]
  },
  {
   "cell_type": "code",
   "execution_count": 20,
   "metadata": {
    "collapsed": false
   },
   "outputs": [
    {
     "data": {
      "text/html": [
       "<div>\n",
       "<table border=\"1\" class=\"dataframe\">\n",
       "  <thead>\n",
       "    <tr style=\"text-align: right;\">\n",
       "      <th></th>\n",
       "      <th>Breaches By State</th>\n",
       "      <th>Individuals Affected</th>\n",
       "    </tr>\n",
       "  </thead>\n",
       "  <tbody>\n",
       "    <tr>\n",
       "      <th>AK</th>\n",
       "      <td>6</td>\n",
       "      <td>9053.0</td>\n",
       "    </tr>\n",
       "    <tr>\n",
       "      <th>AL</th>\n",
       "      <td>21</td>\n",
       "      <td>1081032.0</td>\n",
       "    </tr>\n",
       "    <tr>\n",
       "      <th>AR</th>\n",
       "      <td>11</td>\n",
       "      <td>32503.0</td>\n",
       "    </tr>\n",
       "    <tr>\n",
       "      <th>AZ</th>\n",
       "      <td>29</td>\n",
       "      <td>215657.0</td>\n",
       "    </tr>\n",
       "    <tr>\n",
       "      <th>CA</th>\n",
       "      <td>170</td>\n",
       "      <td>7273864.0</td>\n",
       "    </tr>\n",
       "    <tr>\n",
       "      <th>CO</th>\n",
       "      <td>26</td>\n",
       "      <td>187865.0</td>\n",
       "    </tr>\n",
       "    <tr>\n",
       "      <th>CT</th>\n",
       "      <td>22</td>\n",
       "      <td>215408.0</td>\n",
       "    </tr>\n",
       "    <tr>\n",
       "      <th>DC</th>\n",
       "      <td>8</td>\n",
       "      <td>33350.0</td>\n",
       "    </tr>\n",
       "    <tr>\n",
       "      <th>DE</th>\n",
       "      <td>1</td>\n",
       "      <td>1883.0</td>\n",
       "    </tr>\n",
       "    <tr>\n",
       "      <th>FL</th>\n",
       "      <td>97</td>\n",
       "      <td>5741447.0</td>\n",
       "    </tr>\n",
       "    <tr>\n",
       "      <th>GA</th>\n",
       "      <td>47</td>\n",
       "      <td>1485213.0</td>\n",
       "    </tr>\n",
       "    <tr>\n",
       "      <th>HI</th>\n",
       "      <td>4</td>\n",
       "      <td>13662.0</td>\n",
       "    </tr>\n",
       "    <tr>\n",
       "      <th>IA</th>\n",
       "      <td>9</td>\n",
       "      <td>39284.0</td>\n",
       "    </tr>\n",
       "    <tr>\n",
       "      <th>ID</th>\n",
       "      <td>3</td>\n",
       "      <td>14962.0</td>\n",
       "    </tr>\n",
       "    <tr>\n",
       "      <th>IL</th>\n",
       "      <td>86</td>\n",
       "      <td>4691290.0</td>\n",
       "    </tr>\n",
       "    <tr>\n",
       "      <th>IN</th>\n",
       "      <td>51</td>\n",
       "      <td>83846762.0</td>\n",
       "    </tr>\n",
       "    <tr>\n",
       "      <th>KS</th>\n",
       "      <td>10</td>\n",
       "      <td>88264.0</td>\n",
       "    </tr>\n",
       "    <tr>\n",
       "      <th>KY</th>\n",
       "      <td>31</td>\n",
       "      <td>200209.0</td>\n",
       "    </tr>\n",
       "    <tr>\n",
       "      <th>LA</th>\n",
       "      <td>14</td>\n",
       "      <td>101016.0</td>\n",
       "    </tr>\n",
       "    <tr>\n",
       "      <th>MA</th>\n",
       "      <td>41</td>\n",
       "      <td>205118.0</td>\n",
       "    </tr>\n",
       "    <tr>\n",
       "      <th>MD</th>\n",
       "      <td>26</td>\n",
       "      <td>1457570.0</td>\n",
       "    </tr>\n",
       "    <tr>\n",
       "      <th>ME</th>\n",
       "      <td>3</td>\n",
       "      <td>3274.0</td>\n",
       "    </tr>\n",
       "    <tr>\n",
       "      <th>MI</th>\n",
       "      <td>36</td>\n",
       "      <td>220046.0</td>\n",
       "    </tr>\n",
       "    <tr>\n",
       "      <th>MN</th>\n",
       "      <td>37</td>\n",
       "      <td>339201.0</td>\n",
       "    </tr>\n",
       "    <tr>\n",
       "      <th>MO</th>\n",
       "      <td>29</td>\n",
       "      <td>112436.0</td>\n",
       "    </tr>\n",
       "    <tr>\n",
       "      <th>MS</th>\n",
       "      <td>7</td>\n",
       "      <td>28486.0</td>\n",
       "    </tr>\n",
       "    <tr>\n",
       "      <th>MT</th>\n",
       "      <td>9</td>\n",
       "      <td>1147107.0</td>\n",
       "    </tr>\n",
       "    <tr>\n",
       "      <th>NC</th>\n",
       "      <td>40</td>\n",
       "      <td>304589.0</td>\n",
       "    </tr>\n",
       "    <tr>\n",
       "      <th>ND</th>\n",
       "      <td>3</td>\n",
       "      <td>12650.0</td>\n",
       "    </tr>\n",
       "    <tr>\n",
       "      <th>NE</th>\n",
       "      <td>9</td>\n",
       "      <td>50670.0</td>\n",
       "    </tr>\n",
       "    <tr>\n",
       "      <th>NH</th>\n",
       "      <td>4</td>\n",
       "      <td>239339.0</td>\n",
       "    </tr>\n",
       "    <tr>\n",
       "      <th>NJ</th>\n",
       "      <td>22</td>\n",
       "      <td>3054416.0</td>\n",
       "    </tr>\n",
       "    <tr>\n",
       "      <th>NM</th>\n",
       "      <td>14</td>\n",
       "      <td>40109.0</td>\n",
       "    </tr>\n",
       "    <tr>\n",
       "      <th>NV</th>\n",
       "      <td>10</td>\n",
       "      <td>83124.0</td>\n",
       "    </tr>\n",
       "    <tr>\n",
       "      <th>NY</th>\n",
       "      <td>99</td>\n",
       "      <td>13004903.0</td>\n",
       "    </tr>\n",
       "    <tr>\n",
       "      <th>OH</th>\n",
       "      <td>48</td>\n",
       "      <td>362341.0</td>\n",
       "    </tr>\n",
       "    <tr>\n",
       "      <th>OK</th>\n",
       "      <td>13</td>\n",
       "      <td>279119.0</td>\n",
       "    </tr>\n",
       "    <tr>\n",
       "      <th>OR</th>\n",
       "      <td>23</td>\n",
       "      <td>285516.0</td>\n",
       "    </tr>\n",
       "    <tr>\n",
       "      <th>PA</th>\n",
       "      <td>52</td>\n",
       "      <td>1323157.0</td>\n",
       "    </tr>\n",
       "    <tr>\n",
       "      <th>PR</th>\n",
       "      <td>28</td>\n",
       "      <td>863606.0</td>\n",
       "    </tr>\n",
       "    <tr>\n",
       "      <th>RI</th>\n",
       "      <td>8</td>\n",
       "      <td>44527.0</td>\n",
       "    </tr>\n",
       "    <tr>\n",
       "      <th>SC</th>\n",
       "      <td>18</td>\n",
       "      <td>361332.0</td>\n",
       "    </tr>\n",
       "    <tr>\n",
       "      <th>SD</th>\n",
       "      <td>5</td>\n",
       "      <td>23779.0</td>\n",
       "    </tr>\n",
       "    <tr>\n",
       "      <th>TN</th>\n",
       "      <td>38</td>\n",
       "      <td>6141964.0</td>\n",
       "    </tr>\n",
       "    <tr>\n",
       "      <th>TX</th>\n",
       "      <td>127</td>\n",
       "      <td>3702677.0</td>\n",
       "    </tr>\n",
       "    <tr>\n",
       "      <th>UT</th>\n",
       "      <td>12</td>\n",
       "      <td>876270.0</td>\n",
       "    </tr>\n",
       "    <tr>\n",
       "      <th>VA</th>\n",
       "      <td>25</td>\n",
       "      <td>5850533.0</td>\n",
       "    </tr>\n",
       "    <tr>\n",
       "      <th>VT</th>\n",
       "      <td>2</td>\n",
       "      <td>2550.0</td>\n",
       "    </tr>\n",
       "    <tr>\n",
       "      <th>WA</th>\n",
       "      <td>36</td>\n",
       "      <td>11269724.0</td>\n",
       "    </tr>\n",
       "    <tr>\n",
       "      <th>WI</th>\n",
       "      <td>12</td>\n",
       "      <td>115900.0</td>\n",
       "    </tr>\n",
       "    <tr>\n",
       "      <th>WV</th>\n",
       "      <td>5</td>\n",
       "      <td>21543.0</td>\n",
       "    </tr>\n",
       "    <tr>\n",
       "      <th>WY</th>\n",
       "      <td>6</td>\n",
       "      <td>52200.0</td>\n",
       "    </tr>\n",
       "  </tbody>\n",
       "</table>\n",
       "</div>"
      ],
      "text/plain": [
       "    Breaches By State  Individuals Affected\n",
       "AK                  6                9053.0\n",
       "AL                 21             1081032.0\n",
       "AR                 11               32503.0\n",
       "AZ                 29              215657.0\n",
       "CA                170             7273864.0\n",
       "CO                 26              187865.0\n",
       "CT                 22              215408.0\n",
       "DC                  8               33350.0\n",
       "DE                  1                1883.0\n",
       "FL                 97             5741447.0\n",
       "GA                 47             1485213.0\n",
       "HI                  4               13662.0\n",
       "IA                  9               39284.0\n",
       "ID                  3               14962.0\n",
       "IL                 86             4691290.0\n",
       "IN                 51            83846762.0\n",
       "KS                 10               88264.0\n",
       "KY                 31              200209.0\n",
       "LA                 14              101016.0\n",
       "MA                 41              205118.0\n",
       "MD                 26             1457570.0\n",
       "ME                  3                3274.0\n",
       "MI                 36              220046.0\n",
       "MN                 37              339201.0\n",
       "MO                 29              112436.0\n",
       "MS                  7               28486.0\n",
       "MT                  9             1147107.0\n",
       "NC                 40              304589.0\n",
       "ND                  3               12650.0\n",
       "NE                  9               50670.0\n",
       "NH                  4              239339.0\n",
       "NJ                 22             3054416.0\n",
       "NM                 14               40109.0\n",
       "NV                 10               83124.0\n",
       "NY                 99            13004903.0\n",
       "OH                 48              362341.0\n",
       "OK                 13              279119.0\n",
       "OR                 23              285516.0\n",
       "PA                 52             1323157.0\n",
       "PR                 28              863606.0\n",
       "RI                  8               44527.0\n",
       "SC                 18              361332.0\n",
       "SD                  5               23779.0\n",
       "TN                 38             6141964.0\n",
       "TX                127             3702677.0\n",
       "UT                 12              876270.0\n",
       "VA                 25             5850533.0\n",
       "VT                  2                2550.0\n",
       "WA                 36            11269724.0\n",
       "WI                 12              115900.0\n",
       "WV                  5               21543.0\n",
       "WY                  6               52200.0"
      ]
     },
     "execution_count": 20,
     "metadata": {},
     "output_type": "execute_result"
    }
   ],
   "source": [
    "breach_df2"
   ]
  },
  {
   "cell_type": "code",
   "execution_count": 21,
   "metadata": {
    "collapsed": false
   },
   "outputs": [
    {
     "data": {
      "text/html": [
       "<div>\n",
       "<table border=\"1\" class=\"dataframe\">\n",
       "  <thead>\n",
       "    <tr style=\"text-align: right;\">\n",
       "      <th></th>\n",
       "      <th>Breaches By State</th>\n",
       "      <th>Individuals Affected</th>\n",
       "    </tr>\n",
       "  </thead>\n",
       "  <tbody>\n",
       "    <tr>\n",
       "      <th>Breaches By State</th>\n",
       "      <td>1.000000</td>\n",
       "      <td>0.246021</td>\n",
       "    </tr>\n",
       "    <tr>\n",
       "      <th>Individuals Affected</th>\n",
       "      <td>0.246021</td>\n",
       "      <td>1.000000</td>\n",
       "    </tr>\n",
       "  </tbody>\n",
       "</table>\n",
       "</div>"
      ],
      "text/plain": [
       "                      Breaches By State  Individuals Affected\n",
       "Breaches By State              1.000000              0.246021\n",
       "Individuals Affected           0.246021              1.000000"
      ]
     },
     "execution_count": 21,
     "metadata": {},
     "output_type": "execute_result"
    }
   ],
   "source": [
    "breach_df2.corr()"
   ]
  },
  {
   "cell_type": "code",
   "execution_count": 22,
   "metadata": {
    "collapsed": true
   },
   "outputs": [],
   "source": [
    "# As we can see, the correlation between the two factors is 0.246021, since the\n",
    "# value is close to 0, it indicates that the two factors are weakly correlated \n",
    "# (do not depend alot on each other). Hence our intuition is correct.  "
   ]
  },
  {
   "cell_type": "code",
   "execution_count": 23,
   "metadata": {
    "collapsed": false
   },
   "outputs": [
    {
     "data": {
      "text/plain": [
       "<matplotlib.axes._subplots.AxesSubplot at 0x7fcbd986b290>"
      ]
     },
     "execution_count": 23,
     "metadata": {},
     "output_type": "execute_result"
    },
    {
     "data": {
      "image/png": "[encoded data removed]",
      "text/plain": [
       "<matplotlib.figure.Figure at 0x7fcbd97c1510>"
      ]
     },
     "metadata": {},
     "output_type": "display_data"
    }
   ],
   "source": [
    "#We can map this correlation in a simple 2x2 matrix\n",
    "sns.heatmap(breach_df2.corr())"
   ]
  },
  {
   "cell_type": "code",
   "execution_count": 24,
   "metadata": {
    "collapsed": true
   },
   "outputs": [],
   "source": [
    "# Q3. What is the most common type of breaches? \n"
   ]
  },
  {
   "cell_type": "code",
   "execution_count": 25,
   "metadata": {
    "collapsed": false
   },
   "outputs": [],
   "source": [
    "#Lets get the values of every type of breach\n",
    "BreachVals = DataFrame(breach_df['Type of Breach'].value_counts().rename('Breach Count'))\n"
   ]
  },
  {
   "cell_type": "code",
   "execution_count": 26,
   "metadata": {
    "collapsed": false
   },
   "outputs": [
    {
     "data": {
      "text/html": [
       "<div>\n",
       "<table border=\"1\" class=\"dataframe\">\n",
       "  <thead>\n",
       "    <tr style=\"text-align: right;\">\n",
       "      <th></th>\n",
       "      <th>Breach Count</th>\n",
       "    </tr>\n",
       "  </thead>\n",
       "  <tbody>\n",
       "    <tr>\n",
       "      <th>Theft</th>\n",
       "      <td>684</td>\n",
       "    </tr>\n",
       "    <tr>\n",
       "      <th>Unauthorized Access/Disclosure</th>\n",
       "      <td>315</td>\n",
       "    </tr>\n",
       "    <tr>\n",
       "      <th>Hacking/IT Incident</th>\n",
       "      <td>150</td>\n",
       "    </tr>\n",
       "    <tr>\n",
       "      <th>Loss</th>\n",
       "      <td>114</td>\n",
       "    </tr>\n",
       "    <tr>\n",
       "      <th>Other</th>\n",
       "      <td>78</td>\n",
       "    </tr>\n",
       "    <tr>\n",
       "      <th>Improper Disposal</th>\n",
       "      <td>49</td>\n",
       "    </tr>\n",
       "    <tr>\n",
       "      <th>Theft, Unauthorized Access/Disclosure</th>\n",
       "      <td>24</td>\n",
       "    </tr>\n",
       "    <tr>\n",
       "      <th>Loss, Theft</th>\n",
       "      <td>14</td>\n",
       "    </tr>\n",
       "    <tr>\n",
       "      <th>Hacking/IT Incident, Unauthorized Access/Disclosure</th>\n",
       "      <td>10</td>\n",
       "    </tr>\n",
       "    <tr>\n",
       "      <th>Unknown</th>\n",
       "      <td>10</td>\n",
       "    </tr>\n",
       "    <tr>\n",
       "      <th>Other, Unauthorized Access/Disclosure</th>\n",
       "      <td>7</td>\n",
       "    </tr>\n",
       "    <tr>\n",
       "      <th>Improper Disposal, Loss</th>\n",
       "      <td>3</td>\n",
       "    </tr>\n",
       "    <tr>\n",
       "      <th>Hacking/IT Incident, Theft, Unauthorized Access/Disclosure</th>\n",
       "      <td>3</td>\n",
       "    </tr>\n",
       "    <tr>\n",
       "      <th>Improper Disposal, Loss, Theft</th>\n",
       "      <td>3</td>\n",
       "    </tr>\n",
       "    <tr>\n",
       "      <th>Other, Theft</th>\n",
       "      <td>3</td>\n",
       "    </tr>\n",
       "    <tr>\n",
       "      <th>Loss, Unauthorized Access/Disclosure</th>\n",
       "      <td>3</td>\n",
       "    </tr>\n",
       "    <tr>\n",
       "      <th>Other, Unknown</th>\n",
       "      <td>2</td>\n",
       "    </tr>\n",
       "    <tr>\n",
       "      <th>Other, Theft, Unauthorized Access/Disclosure</th>\n",
       "      <td>2</td>\n",
       "    </tr>\n",
       "    <tr>\n",
       "      <th>Loss, Other</th>\n",
       "      <td>2</td>\n",
       "    </tr>\n",
       "    <tr>\n",
       "      <th>Hacking/IT Incident, Other</th>\n",
       "      <td>2</td>\n",
       "    </tr>\n",
       "    <tr>\n",
       "      <th>Loss, Unauthorized Access/Disclosure, Unknown</th>\n",
       "      <td>1</td>\n",
       "    </tr>\n",
       "    <tr>\n",
       "      <th>Improper Disposal, Theft, Unauthorized Access/Disclosure</th>\n",
       "      <td>1</td>\n",
       "    </tr>\n",
       "    <tr>\n",
       "      <th>Loss, Unknown</th>\n",
       "      <td>1</td>\n",
       "    </tr>\n",
       "    <tr>\n",
       "      <th>Loss, Other, Theft</th>\n",
       "      <td>1</td>\n",
       "    </tr>\n",
       "    <tr>\n",
       "      <th>Hacking/IT Incident, Other, Unauthorized Access/Disclosure</th>\n",
       "      <td>1</td>\n",
       "    </tr>\n",
       "    <tr>\n",
       "      <th>Hacking/IT Incident, Theft</th>\n",
       "      <td>1</td>\n",
       "    </tr>\n",
       "    <tr>\n",
       "      <th>Improper Disposal, Theft</th>\n",
       "      <td>1</td>\n",
       "    </tr>\n",
       "    <tr>\n",
       "      <th>Improper Disposal, Unauthorized Access/Disclosure</th>\n",
       "      <td>1</td>\n",
       "    </tr>\n",
       "  </tbody>\n",
       "</table>\n",
       "</div>"
      ],
      "text/plain": [
       "                                                    Breach Count\n",
       "Theft                                                        684\n",
       "Unauthorized Access/Disclosure                               315\n",
       "Hacking/IT Incident                                          150\n",
       "Loss                                                         114\n",
       "Other                                                         78\n",
       "Improper Disposal                                             49\n",
       "Theft, Unauthorized Access/Disclosure                         24\n",
       "Loss, Theft                                                   14\n",
       "Hacking/IT Incident, Unauthorized Access/Disclo...            10\n",
       "Unknown                                                       10\n",
       "Other, Unauthorized Access/Disclosure                          7\n",
       "Improper Disposal, Loss                                        3\n",
       "Hacking/IT Incident, Theft, Unauthorized Access...             3\n",
       "Improper Disposal, Loss, Theft                                 3\n",
       "Other, Theft                                                   3\n",
       "Loss, Unauthorized Access/Disclosure                           3\n",
       "Other, Unknown                                                 2\n",
       "Other, Theft, Unauthorized Access/Disclosure                   2\n",
       "Loss, Other                                                    2\n",
       "Hacking/IT Incident, Other                                     2\n",
       "Loss, Unauthorized Access/Disclosure, Unknown                  1\n",
       "Improper Disposal, Theft, Unauthorized Access/D...             1\n",
       "Loss, Unknown                                                  1\n",
       "Loss, Other, Theft                                             1\n",
       "Hacking/IT Incident, Other, Unauthorized Access...             1\n",
       "Hacking/IT Incident, Theft                                     1\n",
       "Improper Disposal, Theft                                       1\n",
       "Improper Disposal, Unauthorized Access/Disclosure              1"
      ]
     },
     "execution_count": 26,
     "metadata": {},
     "output_type": "execute_result"
    }
   ],
   "source": [
    "BreachVals"
   ]
  },
  {
   "cell_type": "code",
   "execution_count": 32,
   "metadata": {
    "collapsed": false
   },
   "outputs": [],
   "source": [
    "#Lets set a name to the types of breaches mentioned in the dataframe\n",
    "BreachVals.index.name = 'Breach Type'"
   ]
  },
  {
   "cell_type": "code",
   "execution_count": 33,
   "metadata": {
    "collapsed": false
   },
   "outputs": [
    {
     "data": {
      "text/plain": [
       "'Breach Type'"
      ]
     },
     "execution_count": 33,
     "metadata": {},
     "output_type": "execute_result"
    }
   ],
   "source": [
    "BreachVals.index.name"
   ]
  },
  {
   "cell_type": "code",
   "execution_count": 66,
   "metadata": {
    "collapsed": false
   },
   "outputs": [
    {
     "data": {
      "text/plain": [
       "<matplotlib.axes._subplots.AxesSubplot at 0x7fcbd5381850>"
      ]
     },
     "execution_count": 66,
     "metadata": {},
     "output_type": "execute_result"
    },
    {
     "data": {
      "image/png": "[encoded data removed]",
      "text/plain": [
       "<matplotlib.figure.Figure at 0x7fcbd557c550>"
      ]
     },
     "metadata": {},
     "output_type": "display_data"
    }
   ],
   "source": [
    "BreachVals.plot(kind = 'bar', title = 'Breach Count vs Breach Type', rot = 90, color = 'green'\n",
    "               , figsize = (11,6),  y = 'Breach Count')\n"
   ]
  },
  {
   "cell_type": "code",
   "execution_count": 44,
   "metadata": {
    "collapsed": true
   },
   "outputs": [],
   "source": [
    "# As we can see, plain old theft seems to be the main cause of breaches of medical data"
   ]
  },
  {
   "cell_type": "code",
   "execution_count": 45,
   "metadata": {
    "collapsed": true
   },
   "outputs": [],
   "source": [
    "# Q.4 How does the number of affected people change across the time period described by the \n",
    "# dataset?\n"
   ]
  },
  {
   "cell_type": "code",
   "execution_count": 67,
   "metadata": {
    "collapsed": false
   },
   "outputs": [
    {
     "data": {
      "text/html": [
       "<div>\n",
       "<table border=\"1\" class=\"dataframe\">\n",
       "  <thead>\n",
       "    <tr style=\"text-align: right;\">\n",
       "      <th></th>\n",
       "      <th>Name of Covered Entity</th>\n",
       "      <th>State</th>\n",
       "      <th>Covered Entity Type</th>\n",
       "      <th>Individuals Affected</th>\n",
       "      <th>Breach Submission Date</th>\n",
       "      <th>Type of Breach</th>\n",
       "      <th>Location of Breached Information</th>\n",
       "      <th>Business Associate Present</th>\n",
       "      <th>Web Description</th>\n",
       "    </tr>\n",
       "  </thead>\n",
       "  <tbody>\n",
       "    <tr>\n",
       "      <th>0</th>\n",
       "      <td>Brooke Army Medical Center</td>\n",
       "      <td>TX</td>\n",
       "      <td>Healthcare Provider</td>\n",
       "      <td>1000.0</td>\n",
       "      <td>10/21/2009</td>\n",
       "      <td>Theft</td>\n",
       "      <td>Paper/Films</td>\n",
       "      <td>No</td>\n",
       "      <td>A binder containing the protected health infor...</td>\n",
       "    </tr>\n",
       "    <tr>\n",
       "      <th>1</th>\n",
       "      <td>Mid America Kidney Stone Association, LLC</td>\n",
       "      <td>MO</td>\n",
       "      <td>Healthcare Provider</td>\n",
       "      <td>1000.0</td>\n",
       "      <td>10/28/2009</td>\n",
       "      <td>Theft</td>\n",
       "      <td>Network Server</td>\n",
       "      <td>No</td>\n",
       "      <td>Five desktop computers containing unencrypted ...</td>\n",
       "    </tr>\n",
       "    <tr>\n",
       "      <th>2</th>\n",
       "      <td>Alaska Department of Health and Social Services</td>\n",
       "      <td>AK</td>\n",
       "      <td>Healthcare Provider</td>\n",
       "      <td>501.0</td>\n",
       "      <td>10/30/2009</td>\n",
       "      <td>Theft</td>\n",
       "      <td>Other, Other Portable Electronic Device</td>\n",
       "      <td>No</td>\n",
       "      <td>\\N</td>\n",
       "    </tr>\n",
       "    <tr>\n",
       "      <th>3</th>\n",
       "      <td>Health Services for Children with Special Need...</td>\n",
       "      <td>DC</td>\n",
       "      <td>Health Plan</td>\n",
       "      <td>3800.0</td>\n",
       "      <td>11/17/2009</td>\n",
       "      <td>Loss</td>\n",
       "      <td>Laptop</td>\n",
       "      <td>No</td>\n",
       "      <td>A laptop was lost by an employee while in tran...</td>\n",
       "    </tr>\n",
       "    <tr>\n",
       "      <th>4</th>\n",
       "      <td>Mark D. Lurie, MD</td>\n",
       "      <td>CA</td>\n",
       "      <td>Healthcare Provider</td>\n",
       "      <td>5166.0</td>\n",
       "      <td>11/20/2009</td>\n",
       "      <td>Theft</td>\n",
       "      <td>Desktop Computer</td>\n",
       "      <td>No</td>\n",
       "      <td>A shared Computer that was used for backup was...</td>\n",
       "    </tr>\n",
       "  </tbody>\n",
       "</table>\n",
       "</div>"
      ],
      "text/plain": [
       "                              Name of Covered Entity State  \\\n",
       "0                         Brooke Army Medical Center    TX   \n",
       "1          Mid America Kidney Stone Association, LLC    MO   \n",
       "2    Alaska Department of Health and Social Services    AK   \n",
       "3  Health Services for Children with Special Need...    DC   \n",
       "4                                  Mark D. Lurie, MD    CA   \n",
       "\n",
       "   Covered Entity Type  Individuals Affected Breach Submission Date  \\\n",
       "0  Healthcare Provider                1000.0             10/21/2009   \n",
       "1  Healthcare Provider                1000.0             10/28/2009   \n",
       "2  Healthcare Provider                 501.0             10/30/2009   \n",
       "3          Health Plan                3800.0             11/17/2009   \n",
       "4  Healthcare Provider                5166.0             11/20/2009   \n",
       "\n",
       "  Type of Breach         Location of Breached Information  \\\n",
       "0          Theft                              Paper/Films   \n",
       "1          Theft                           Network Server   \n",
       "2          Theft  Other, Other Portable Electronic Device   \n",
       "3           Loss                                   Laptop   \n",
       "4          Theft                         Desktop Computer   \n",
       "\n",
       "  Business Associate Present  \\\n",
       "0                         No   \n",
       "1                         No   \n",
       "2                         No   \n",
       "3                         No   \n",
       "4                         No   \n",
       "\n",
       "                                     Web Description  \n",
       "0  A binder containing the protected health infor...  \n",
       "1  Five desktop computers containing unencrypted ...  \n",
       "2                                                 \\N  \n",
       "3  A laptop was lost by an employee while in tran...  \n",
       "4  A shared Computer that was used for backup was...  "
      ]
     },
     "execution_count": 67,
     "metadata": {},
     "output_type": "execute_result"
    }
   ],
   "source": [
    "breach_df.head()"
   ]
  },
  {
   "cell_type": "code",
   "execution_count": 71,
   "metadata": {
    "collapsed": false
   },
   "outputs": [],
   "source": [
    "# In essence, we would like a monthly timeline that displays the change in affected individuals\n",
    "# across the range of years provided by the dataset. "
   ]
  },
  {
   "cell_type": "code",
   "execution_count": 72,
   "metadata": {
    "collapsed": true
   },
   "outputs": [],
   "source": [
    "#Let us design a function such that we get the data we need. "
   ]
  },
  {
   "cell_type": "code",
   "execution_count": 139,
   "metadata": {
    "collapsed": false
   },
   "outputs": [],
   "source": [
    "month = []\n",
    "year = []\n",
    "for date in breach_df['Breach Submission Date']:\n",
    "    month.append(date[0:2])\n",
    "    year.append(date[6:len(date)])"
   ]
  },
  {
   "cell_type": "code",
   "execution_count": 142,
   "metadata": {
    "collapsed": false
   },
   "outputs": [],
   "source": [
    "breach_df['Month'] = month\n",
    "breach_df['Year'] = year\n",
    "breach_df = breach_df.drop('Timeline Position', axis = 1)"
   ]
  },
  {
   "cell_type": "code",
   "execution_count": 143,
   "metadata": {
    "collapsed": false,
    "scrolled": false
   },
   "outputs": [
    {
     "data": {
      "text/html": [
       "<div>\n",
       "<table border=\"1\" class=\"dataframe\">\n",
       "  <thead>\n",
       "    <tr style=\"text-align: right;\">\n",
       "      <th></th>\n",
       "      <th>Name of Covered Entity</th>\n",
       "      <th>State</th>\n",
       "      <th>Covered Entity Type</th>\n",
       "      <th>Individuals Affected</th>\n",
       "      <th>Breach Submission Date</th>\n",
       "      <th>Type of Breach</th>\n",
       "      <th>Location of Breached Information</th>\n",
       "      <th>Business Associate Present</th>\n",
       "      <th>Web Description</th>\n",
       "      <th>Month</th>\n",
       "      <th>Year</th>\n",
       "    </tr>\n",
       "  </thead>\n",
       "  <tbody>\n",
       "    <tr>\n",
       "      <th>0</th>\n",
       "      <td>Brooke Army Medical Center</td>\n",
       "      <td>TX</td>\n",
       "      <td>Healthcare Provider</td>\n",
       "      <td>1000.0</td>\n",
       "      <td>10/21/2009</td>\n",
       "      <td>Theft</td>\n",
       "      <td>Paper/Films</td>\n",
       "      <td>No</td>\n",
       "      <td>A binder containing the protected health infor...</td>\n",
       "      <td>10</td>\n",
       "      <td>2009</td>\n",
       "    </tr>\n",
       "    <tr>\n",
       "      <th>1</th>\n",
       "      <td>Mid America Kidney Stone Association, LLC</td>\n",
       "      <td>MO</td>\n",
       "      <td>Healthcare Provider</td>\n",
       "      <td>1000.0</td>\n",
       "      <td>10/28/2009</td>\n",
       "      <td>Theft</td>\n",
       "      <td>Network Server</td>\n",
       "      <td>No</td>\n",
       "      <td>Five desktop computers containing unencrypted ...</td>\n",
       "      <td>10</td>\n",
       "      <td>2009</td>\n",
       "    </tr>\n",
       "    <tr>\n",
       "      <th>2</th>\n",
       "      <td>Alaska Department of Health and Social Services</td>\n",
       "      <td>AK</td>\n",
       "      <td>Healthcare Provider</td>\n",
       "      <td>501.0</td>\n",
       "      <td>10/30/2009</td>\n",
       "      <td>Theft</td>\n",
       "      <td>Other, Other Portable Electronic Device</td>\n",
       "      <td>No</td>\n",
       "      <td>\\N</td>\n",
       "      <td>10</td>\n",
       "      <td>2009</td>\n",
       "    </tr>\n",
       "    <tr>\n",
       "      <th>3</th>\n",
       "      <td>Health Services for Children with Special Need...</td>\n",
       "      <td>DC</td>\n",
       "      <td>Health Plan</td>\n",
       "      <td>3800.0</td>\n",
       "      <td>11/17/2009</td>\n",
       "      <td>Loss</td>\n",
       "      <td>Laptop</td>\n",
       "      <td>No</td>\n",
       "      <td>A laptop was lost by an employee while in tran...</td>\n",
       "      <td>11</td>\n",
       "      <td>2009</td>\n",
       "    </tr>\n",
       "    <tr>\n",
       "      <th>4</th>\n",
       "      <td>Mark D. Lurie, MD</td>\n",
       "      <td>CA</td>\n",
       "      <td>Healthcare Provider</td>\n",
       "      <td>5166.0</td>\n",
       "      <td>11/20/2009</td>\n",
       "      <td>Theft</td>\n",
       "      <td>Desktop Computer</td>\n",
       "      <td>No</td>\n",
       "      <td>A shared Computer that was used for backup was...</td>\n",
       "      <td>11</td>\n",
       "      <td>2009</td>\n",
       "    </tr>\n",
       "  </tbody>\n",
       "</table>\n",
       "</div>"
      ],
      "text/plain": [
       "                              Name of Covered Entity State  \\\n",
       "0                         Brooke Army Medical Center    TX   \n",
       "1          Mid America Kidney Stone Association, LLC    MO   \n",
       "2    Alaska Department of Health and Social Services    AK   \n",
       "3  Health Services for Children with Special Need...    DC   \n",
       "4                                  Mark D. Lurie, MD    CA   \n",
       "\n",
       "   Covered Entity Type  Individuals Affected Breach Submission Date  \\\n",
       "0  Healthcare Provider                1000.0             10/21/2009   \n",
       "1  Healthcare Provider                1000.0             10/28/2009   \n",
       "2  Healthcare Provider                 501.0             10/30/2009   \n",
       "3          Health Plan                3800.0             11/17/2009   \n",
       "4  Healthcare Provider                5166.0             11/20/2009   \n",
       "\n",
       "  Type of Breach         Location of Breached Information  \\\n",
       "0          Theft                              Paper/Films   \n",
       "1          Theft                           Network Server   \n",
       "2          Theft  Other, Other Portable Electronic Device   \n",
       "3           Loss                                   Laptop   \n",
       "4          Theft                         Desktop Computer   \n",
       "\n",
       "  Business Associate Present  \\\n",
       "0                         No   \n",
       "1                         No   \n",
       "2                         No   \n",
       "3                         No   \n",
       "4                         No   \n",
       "\n",
       "                                     Web Description Month  Year  \n",
       "0  A binder containing the protected health infor...    10  2009  \n",
       "1  Five desktop computers containing unencrypted ...    10  2009  \n",
       "2                                                 \\N    10  2009  \n",
       "3  A laptop was lost by an employee while in tran...    11  2009  \n",
       "4  A shared Computer that was used for backup was...    11  2009  "
      ]
     },
     "execution_count": 143,
     "metadata": {},
     "output_type": "execute_result"
    }
   ],
   "source": [
    "breach_df.head()"
   ]
  },
  {
   "cell_type": "code",
   "execution_count": 224,
   "metadata": {
    "collapsed": true
   },
   "outputs": [],
   "source": [
    "monthGroup = breach_df.groupby(['Year','Month'])"
   ]
  },
  {
   "cell_type": "code",
   "execution_count": 236,
   "metadata": {
    "collapsed": false
   },
   "outputs": [],
   "source": [
    "monthlyAffected = monthGroup.sum()"
   ]
  },
  {
   "cell_type": "code",
   "execution_count": 243,
   "metadata": {
    "collapsed": false,
    "scrolled": false
   },
   "outputs": [
    {
     "data": {
      "text/plain": [
       "<matplotlib.axes._subplots.AxesSubplot at 0x7fcbb7c01ad0>"
      ]
     },
     "execution_count": 243,
     "metadata": {},
     "output_type": "execute_result"
    },
    {
     "data": {
      "image/png": "[encoded data removed]",
      "text/plain": [
       "<matplotlib.figure.Figure at 0x7fcbb7314690>"
      ]
     },
     "metadata": {},
     "output_type": "display_data"
    }
   ],
   "source": [
    "monthlyAffected.plot(kind = 'line', figsize = (14,6), logy = True,color = 'green')\n",
    "#Add a trend line bruh wut u doin"
   ]
  },
  {
   "cell_type": "code",
   "execution_count": 244,
   "metadata": {
    "collapsed": true
   },
   "outputs": [],
   "source": [
    "# as we can see, there is a noticiable inconsistency in the number of individuals who are being affected by medical data \n",
    "# breaches. Although, we can certainlly notice an increasing trend indicicating greater security measures must be taken\n",
    "# in order to protect data"
   ]
  },
  {
   "cell_type": "code",
   "execution_count": 245,
   "metadata": {
    "collapsed": true
   },
   "outputs": [],
   "source": [
    "# Q.5 Is there any correlation between the type of theft and number of people affected?\n"
   ]
  },
  {
   "cell_type": "code",
   "execution_count": 246,
   "metadata": {
    "collapsed": true
   },
   "outputs": [],
   "source": [
    "AffectedBreachTypes = breach_df.groupby('Type of Breach')"
   ]
  },
  {
   "cell_type": "code",
   "execution_count": 253,
   "metadata": {
    "collapsed": false
   },
   "outputs": [],
   "source": [
    "Total_Affected = AffectedBreachTypes.sum()"
   ]
  },
  {
   "cell_type": "code",
   "execution_count": 262,
   "metadata": {
    "collapsed": false
   },
   "outputs": [
    {
     "data": {
      "text/plain": [
       "<matplotlib.axes._subplots.AxesSubplot at 0x7fcbab578490>"
      ]
     },
     "execution_count": 262,
     "metadata": {},
     "output_type": "execute_result"
    },
    {
     "data": {
      "image/png": "[encoded data removed]",
      "text/plain": [
       "<matplotlib.figure.Figure at 0x7fcbab7969d0>"
      ]
     },
     "metadata": {},
     "output_type": "display_data"
    }
   ],
   "source": [
    "Total_Affected.plot(kind = 'bar', rot = 90, logy = True, title = 'Total Affected vs Breach Type', color = 'teal', figsize = (13,4))"
   ]
  },
  {
   "cell_type": "code",
   "execution_count": 263,
   "metadata": {
    "collapsed": true
   },
   "outputs": [],
   "source": [
    "# Another observation arises, we note from the above graph that most individuals are affected by Hacking/IT incidents, but \n",
    "# our earlier analysis showed that most of the data was lost (to a great degree) due to theft. This is not to say that \n",
    "# Theft plays a small role in affecting people. As we can see, Theft follows Hacking/IT as the second highest factor\n",
    "# affecting people through breaches. "
   ]
  },
  {
   "cell_type": "code",
   "execution_count": 264,
   "metadata": {
    "collapsed": true
   },
   "outputs": [],
   "source": [
    "# For our last exercise, lets look for any correlation between the type of breach and the number of people affected by \n",
    "# these breaches. \n",
    "breach_df3 = pd.concat([Total_Affected,BreachVals], axis = 1)"
   ]
  },
  {
   "cell_type": "code",
   "execution_count": 265,
   "metadata": {
    "collapsed": false
   },
   "outputs": [
    {
     "data": {
      "text/html": [
       "<div>\n",
       "<table border=\"1\" class=\"dataframe\">\n",
       "  <thead>\n",
       "    <tr style=\"text-align: right;\">\n",
       "      <th></th>\n",
       "      <th>Individuals Affected</th>\n",
       "      <th>Breach Count</th>\n",
       "    </tr>\n",
       "  </thead>\n",
       "  <tbody>\n",
       "    <tr>\n",
       "      <th>Individuals Affected</th>\n",
       "      <td>1.000000</td>\n",
       "      <td>0.322839</td>\n",
       "    </tr>\n",
       "    <tr>\n",
       "      <th>Breach Count</th>\n",
       "      <td>0.322839</td>\n",
       "      <td>1.000000</td>\n",
       "    </tr>\n",
       "  </tbody>\n",
       "</table>\n",
       "</div>"
      ],
      "text/plain": [
       "                      Individuals Affected  Breach Count\n",
       "Individuals Affected              1.000000      0.322839\n",
       "Breach Count                      0.322839      1.000000"
      ]
     },
     "execution_count": 265,
     "metadata": {},
     "output_type": "execute_result"
    }
   ],
   "source": [
    "breach_df3.corr()"
   ]
  },
  {
   "cell_type": "code",
   "execution_count": 266,
   "metadata": {
    "collapsed": true
   },
   "outputs": [],
   "source": [
    "# As we can see, there is only a very small correlation between the number of people affected and the type of breaches. \n"
   ]
  },
  {
   "cell_type": "code",
   "execution_count": null,
   "metadata": {
    "collapsed": true
   },
   "outputs": [],
   "source": [
    "# End. "
   ]
  }
 ],
 "metadata": {
  "kernelspec": {
   "display_name": "Python 2",
   "language": "python",
   "name": "python2"
  },
  "language_info": {
   "codemirror_mode": {
    "name": "ipython",
    "version": 2
   },
   "file_extension": ".py",
   "mimetype": "text/x-python",
   "name": "python",
   "nbconvert_exporter": "python",
   "pygments_lexer": "ipython2",
   "version": "2.7.11"
  }
 },
 "nbformat": 4,
 "nbformat_minor": 0
}
